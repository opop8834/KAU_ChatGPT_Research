{
 "cells": [
  {
   "cell_type": "code",
   "execution_count": 2,
   "id": "1cd9d70b",
   "metadata": {},
   "outputs": [],
   "source": [
    "import pandas as pd\n",
    "\n",
    "xlsx = pd.read_excel(\"data_크롤링만_eng.xlsx\")\n",
    "xlsx.to_csv(\"data_크롤링만_eng.csv\", encoding=\"utf-8-sig\")"
   ]
  },
  {
   "cell_type": "code",
   "execution_count": 3,
   "id": "fa8e99c1",
   "metadata": {},
   "outputs": [],
   "source": [
    "import pandas as pd\n",
    "import openai\n",
    "import csv\n",
    "import numpy as np\n",
    "import re\n",
    "import sys\n",
    "SecList_eng = []\n",
    "\n",
    "\n",
    "data = pd.read_csv('data_크롤링만_eng.csv', header=None, encoding=\"utf-8-sig\")\n",
    "for i in range(len(data)):    \n",
    "    SecList_eng.append(data.iloc[i][2])\n",
    "    \n",
    "Sec_index = []\n",
    "SecList = []\n",
    "urlList = []\n",
    "\n",
    "data = pd.read_csv('data_크롤링만.csv', header=None, encoding=\"utf-8-sig\")\n",
    "for i in range(len(data)):    \n",
    "    Sec_index.append(data.iloc[i][0])\n",
    "    SecList.append(data.iloc[i][1])\n",
    "    urlList.append(data.iloc[i][2]) \n",
    "    \n",
    "for i in range(len(Sec_index)):\n",
    "    f = open(f'data_크롤링만_eng_kor.csv','a', newline='' , encoding=\"utf-8-sig\")\n",
    "    answer_db = csv.writer(f)\n",
    "    answer_db.writerow([str(Sec_index[i]),SecList[i],SecList_eng[i],urlList[i]])\n",
    "    f.close()  "
   ]
  },
  {
   "cell_type": "code",
   "execution_count": null,
   "id": "a59a5f04",
   "metadata": {},
   "outputs": [],
   "source": []
  }
 ],
 "metadata": {
  "kernelspec": {
   "display_name": "Python 3 (ipykernel)",
   "language": "python",
   "name": "python3"
  },
  "language_info": {
   "codemirror_mode": {
    "name": "ipython",
    "version": 3
   },
   "file_extension": ".py",
   "mimetype": "text/x-python",
   "name": "python",
   "nbconvert_exporter": "python",
   "pygments_lexer": "ipython3",
   "version": "3.9.13"
  }
 },
 "nbformat": 4,
 "nbformat_minor": 5
}
