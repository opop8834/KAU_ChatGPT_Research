{
 "cells": [
  {
   "cell_type": "code",
   "execution_count": 3,
   "id": "8324e24b",
   "metadata": {},
   "outputs": [
    {
     "name": "stdout",
     "output_type": "stream",
     "text": [
      "628\n",
      "\n",
      " 답 : \n",
      "\n",
      "output: [\"Introduction to AI Convergence Major\n",
      "The AI Convergence Major aims to cultivate interdisciplinary talents who can prepare for the era of the Fourth Industrial Revolution by applying AI, DATA, and SW technologies to various fields of study such as management, engineering, logistics, transportation, and operation. Starting from the 2021 academic year, this major has been established and operated with a focus on AI convergence majors related to management, new materials, and logistics. The main participating departments are the Department of Software, AI Autonomous Driving System Engineering, Department of Aerospace Electronic Information Engineering, Department of Management, Department of New Materials Engineering, and Department of Aerospace Transportation Logistics. AI Convergence Department Majors ● AI Convergence Management Major ● AI Convergence New Materials Major ● AI Convergence Logistics Major ● IT-BIZ Convergence Major ● Autonomous Driving Convergence Major\"]\n",
      "\n",
      "&&&&&&&&&&&&&\n",
      "AI융합전공 소개\n",
      "AI융합전공은 4차 산업 혁명 시대를 대비하는 융합형 인재를 양성하기 위하여 경영, 공학, 물류 교통, 운항 등의 다양한 산업분야의 전공 기술에 AI·DATA·SW기술을 적용할 수 있도록 첨단 융합 및 실무 역량을 학생들에게 배양하는 것을 목표로 한다. 본 전공은 2021학년부터 경영, 신소재, 물류 관련 AI 융합전공을 개설하여 운영하고 있으며, 주요 참여 학부(과)는 소프트웨어학과, AI자율주행시스템공학과, 항공전자정보공학부, 경영학부, 신소재공학과, 항공교통물류학부이다. AI융합학부 전공   ● AI융합경영전공  ●  AI융합신소재전공   ●  AI융합 물류전공  ●  IT-BIZ융합전공  ●  자율주행 융합전공\n",
      "&&&&&&&&&&&&&\n",
      "\n",
      "Introduction to AI Convergence Major\n",
      "The AI Convergence Major aims to cultivate interdisciplinary talents who can prepare for the era of the Fourth Industrial Revolution by applying AI, DATA, and SW technologies to various fields of study such as management, engineering, logistics, transportation, and operation. Starting from the 2021 academic year, this major has been established and operated with a focus on AI convergence majors related to management, new materials, and logistics. The main participating departments are the Department of Software, AI Autonomous Driving System Engineering, Department of Aerospace Electronic Information Engineering, Department of Management, Department of New Materials Engineering, and Department of Aerospace Transportation Logistics. AI Convergence Department Majors ● AI Convergence Management Major ● AI Convergence New Materials Major ● AI Convergence Logistics Major ● IT-BIZ Convergence Major ● Autonomous Driving Convergence Major\n"
     ]
    }
   ],
   "source": [
    "import re\n",
    "import openai\n",
    "import csv\n",
    "import numpy as np\n",
    "import pandas as pd\n",
    "\n",
    "def split_sentences(text):\n",
    "    sentences = text.split('\\n')  # newline('\\n')을 기준으로 문자열을 나눕니다.\n",
    "    sentences = [sentence.strip() for sentence in sentences]  # 각 문장 앞뒤에 있는 공백을 제거합니다.\n",
    "    sentences = [sentence for sentence in sentences if sentence]  # 빈 문장을 제거합니다.\n",
    "    return sentences\n",
    "\n",
    "def get_embedding(text, model=\"text-embedding-ada-002\"):\n",
    "    temp = openai.Embedding.create(input = [text], model=model)['data'][0]['embedding']\n",
    "    return temp\n",
    "\n",
    "openai.api_key =\"API_KEY\"\n",
    "text = \"\"\"AI융합전공 소개\n",
    "AI융합전공은 4차 산업 혁명 시대를 대비하는 융합형 인재를 양성하기 위하여 경영, 공학, 물류 교통, 운항 등의 다양한 산업분야의 전공 기술에 AI·DATA·SW기술을 적용할 수 있도록 첨단 융합 및 실무 역량을 학생들에게 배양하는 것을 목표로 한다. 본 전공은 2021학년부터 경영, 신소재, 물류 관련 AI 융합전공을 개설하여 운영하고 있으며, 주요 참여 학부(과)는 소프트웨어학과, AI자율주행시스템공학과, 항공전자정보공학부, 경영학부, 신소재공학과, 항공교통물류학부이다. AI융합학부 전공   ● AI융합경영전공  ●  AI융합신소재전공   ●  AI융합 물류전공  ●  IT-BIZ융합전공  ●  자율주행 융합전공\"\"\"\n",
    "\n",
    "sys = f\"\"\"function_name: [trans_sentence]\n",
    "input: [\"Korean_sentence\"]\n",
    "output: [\"English_sentence\"]\n",
    "rule: [I want you to act as an English translator. I will provide you with input forms including \"sentence\" in any language and you will detect the language, translate it, in English.]\n",
    "\n",
    "# Start translate!\n",
    "input : [trans_sentence({text})]\"\"\"\n",
    "completion = openai.ChatCompletion.create( \n",
    "      model=\"gpt-3.5-turbo-16k-0613\",  \n",
    "      messages=[\n",
    "      {\"role\": \"system\", \"content\": f'\"{sys}\"'},\n",
    "#       {\"role\": \"user\", \"content\": f'\"{user}\"'},\n",
    "      ], temperature =  0.0001)\n",
    "answer_temp = completion['choices'][0]['message']['content']\n",
    "print(completion['usage']['total_tokens'])\n",
    "print(\"\\n 답 : \\n\")\n",
    "print(answer_temp)\n",
    "answer_temp = answer_temp.replace(\"[\",\"\")\n",
    "answer_temp = answer_temp.replace(\"]\",\"\")\n",
    "answer_temp = answer_temp.replace(\"trans_sentence: \",\"\")\n",
    "answer_temp = answer_temp.replace(\"trans_sentence(\",\"\")\n",
    "answer_temp = answer_temp.replace(\"output: \",\"\")\n",
    "answer_temp = answer_temp.replace(\"\\\"\",\"\")\n",
    "answer_temp = answer_temp.replace(\"\\'\",\"\")\n",
    "answer_temp = answer_temp.replace(\"(\",\"\")\n",
    "answer_temp = answer_temp.replace(\")\",\"\")\n",
    "answer_temp = answer_temp.replace(\"_\",\" \")\n",
    "# answer_temp_split = split_sentences(answer_temp)\n",
    "# user_text_answer = answer_temp_split[0]\n",
    "print()\n",
    "print(\"&&&&&&&&&&&&&\")\n",
    "print(text)\n",
    "print(\"&&&&&&&&&&&&&\")\n",
    "print()\n",
    "print(answer_temp)\n"
   ]
  },
  {
   "cell_type": "code",
   "execution_count": null,
   "id": "4e54bdd0",
   "metadata": {},
   "outputs": [],
   "source": []
  }
 ],
 "metadata": {
  "kernelspec": {
   "display_name": "Python 3 (ipykernel)",
   "language": "python",
   "name": "python3"
  },
  "language_info": {
   "codemirror_mode": {
    "name": "ipython",
    "version": 3
   },
   "file_extension": ".py",
   "mimetype": "text/x-python",
   "name": "python",
   "nbconvert_exporter": "python",
   "pygments_lexer": "ipython3",
   "version": "3.9.12"
  }
 },
 "nbformat": 4,
 "nbformat_minor": 5
}
