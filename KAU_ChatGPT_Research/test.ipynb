{
 "cells": [
  {
   "cell_type": "code",
   "execution_count": 8,
   "id": "ee19df66",
   "metadata": {},
   "outputs": [
    {
     "name": "stdout",
     "output_type": "stream",
     "text": [
      "0.8553275095116267\n",
      "0.8303006242084372\n"
     ]
    }
   ],
   "source": [
    "import pandas as pd\n",
    "import openai\n",
    "import csv\n",
    "import numpy as np\n",
    "from time import sleep\n",
    "import json\n",
    "import ast\n",
    "import re\n",
    "\n",
    "openai.api_key =\"API_KEY\"\n",
    "\n",
    "def get_embedding(text, model=\"text-embedding-ada-002\"):\n",
    "    return openai.Embedding.create(input = [text], model=model)['data'][0]['embedding']\n",
    "\n",
    "user_text = \"졸업요건이 뭐야?\"\n",
    "\n",
    "Section = \"\"\"졸업\n",
    "제34조 (졸업 사정) 제1항, 졸업 대상자는 다음 각호의 졸업요건을 충족하여야 한다: 총 이수학점 130학점 이상 취득, 교양과목 영역별 지정 이수학점 취득, 교양필수, 공필수과목의 전 학점 취득, 주전공의 기본전공과목 45학점 이상 취득, 5. 부전공, 복수전공 또는 연계·융합 전공 중 하나를 이수하거나 주전공의 심화 전공과목을 24학점 이상 추가 취득, 전 학년 성적 평점 평균이 2.00 이상, 졸업 인증제 통과(북한이탈주민, 학군 제휴 군위탁생, 계약학과 학생 제외), 해당 학부(과)별 운영내규에 의거 요구되는 졸업요건을 충족, 4번에도 불구하고 자유전공학부 졸업대상자의 전공과목 취득 학점은 별도로 정할 수 있다.\n",
    "10. 편입학생은 전 4호 및 전 5호의 졸업요건 대신 주전공을 57학점 이상 취득하여야 한다.\n",
    "제2항, 전 1항에 따른 졸업요건을 충족하지 못하여 졸업이 불가능한 자가 소정의 등록금을 납부하고 졸업요건을 충족하면 그 학년도에 졸업할 수 있다. 단, 전 1항 제7호의 졸업요건만 충족하지 못한 경우에는 등록금을 납부하지 않는다. 제3항, 부전공 이수 인정은 전 1항의 조건을 갖춘 자로서 제24조 제1항 제6호에 따른다. 제4항, 복수전공 이수 인정은 전 1항의 조건을 갖춘 자로서 제25조 제1항 제6호에 따른다. 제5항, 연계·융합 전공 이수 인정은 전 1항의 조건을 갖춘 자로서 제25조의3 제2항 제4호에 따른다. 제6항, 국제항공 교육 인증프로그램에 참여하는 자는 학칙 제26조에 의거 해당 학부(과)별 국제항공 교육 인증 프로그램 내규의 졸업 이수학점을 충족하여야 한다.\n",
    "제34조의2 (조기졸업) 제1항, 조기졸업의 신청 시기는 2학년 수료 후 학기 초 조기졸업 신청서를 소속 학부(과)장의 허가를 받아 교무처에 제출하여야 한다. 단, 조기졸업 이수 신청이 허가된 자는 상위 학년에 전공필수 과목의 수강 신청을 할 수 있다. \n",
    "제2항, 조기 졸업자는 본 대학에서 6개 학기 이상 등록을 필하고 졸업소요학점을 취득하여야 하며, 전 학년 통산 평점 평균이 4.0 이상이어야 한다. 제3항, 재학 중 1회 이상 학사경고를 받았을 때는 조기졸업 대상에서 제외된다. 제4항, 전 1항의 단서 사항에 의거 상위학년의 필수 과목을 이수한 이후 교과과정 변경으로 필수과목이 변경된 경우에도 필수과목을 이수한 것으로 본다. \n",
    "제34조의3 (졸업 인증제) 제1항, 제34조 제1항 제6호에 의한 졸업 인증 선택 분야는 다음 각호\n",
    "와 같다.\n",
    "1. 글로벌 소통 역량 인증\n",
    "2. 전문 탐구 역량 인증\n",
    "3. 통섭 융합 역량 인증\n",
    "4. 창의 도전역량 인증\n",
    "5. 윤리 인성 역량 인증\n",
    "제2항, 졸업대상자는 제1항의 졸업 인증 선택 분야 중 글로벌 소통 역량을 포함하여 2개 이상의 영역에서 인증을 받아야 하며, 졸업 인증에 관한 세부 사항은 별도로 정한다. 제3항, 북한이탈주민, 학군 제휴 군위탁생, 계약학과 학생은 예외로 한다. 제4항, 전 3항 외 예외로 인정하는 사유가 있는 경우 총장의 승인을 받아 면제할 수 있다. 제5항, 졸업 인증을 통과하지 못한 자에게는 해당 전공 학사학위를 수여하지 않고 수료하거나, 일정한 요건을 갖추어 재학 상태를 유지할 수 있다. 단, 수료 이후에 이를 필할 경우에는 해당 학기 말에 학사학위를 수여한다.\n",
    "제34조의4 (우수졸업생) 학칙 제28조 졸업 자격을 충족한 학생 중 학업성적이 뛰어나고 품행이 단정한 학생에게는 다음 각호와 같이 구분하여 학적부 및 학위증 등에 기재한다. \n",
    "1. 최우수(Summa Cum Laude): 누적 평점 평균이 4.25/4.50 이상이거나 학부(과)별 상위 2% 이내인 자\n",
    "2. 우수(Magna Cum Laude): 누적 평점 평균이 4.00/4.50 이상인 자\n",
    "3. 우등(Cum Laude): 누적 평점 평균이 3.75/4.50 이상인 자\n",
    "제34조의5 (학위증 및 수여 학위) 제1항, 학위증에는 소속 학부(과)와 주전공, 부·복수전공, 연계·융합 전공, 심화전공 등의 전공 이수에 관한 사항을 기재한다. 제2항, 학위증 서식 및 전공별 수여 학위명은 각각 및 과 같다. 제3항, 국제항공 교육 인증프로그램의 전공명은 과 같다.\"\"\"\n",
    "\n",
    "Section2 = \"\"\"졸업요건\n",
    "\n",
    "전공 졸업요건\n",
    "\n",
    "학부(과) : 소프트웨어학과\n",
    "학번 구분 : 2012학번까지\n",
    "학칙/학칙 시행세칙 - 졸업학점 : 140, 편입생 졸업학점 : 70\n",
    "학과운영내규 전공학점(전필+전선) : 60학점 (4학년에 개설된 전공선택 2과목 이상 이수/단,인턴쉽 과목은 1과목으로만 인정함)\n",
    "비고 : 전 학년 평점 평균 2.00 이상\n",
    "\n",
    "학부(과) : 소프트웨어학과\n",
    "학번 구분 : 2013학번 이후 ~ 2018학번 까지\n",
    "학칙/학칙 시행세칙 - 졸업학점 : 130, 편입생 졸업학점 : 65\n",
    "\n",
    "학부(과) : 소프트웨어학과\n",
    "학번 구분 : 2014학번 까지\n",
    "학칙/학칙 시행세칙 - 졸업인증제 기준 점수 : 600점\n",
    "\n",
    "학부(과) : 소프트웨어학과\n",
    "학번 구분 : 2015학번 이후\n",
    "학칙/학칙 시행세칙 - 졸업인증제 기준 점수 : 650점\n",
    "\n",
    "2019학번부터 적용 : 주전공(기본)이수 학점을 반드시 취득해야하며, 교과과정의 전공필수 교과목은 반드시 이수해야 한다. 단일(심화)전공 및 다전공 중 1개의 전공을 선택하여 아래표와 같이 전공학점을 취득해야한다.\n",
    "\n",
    "주전공 : 기본전공 45학점, 심화전공 24학점 이상, 복수전공 42학점 이상, 부전공 24학점 이상, 연계융합전공 36학점 이상\n",
    "단일전공 : 69학점\n",
    "다전공 : 87학점\n",
    "복수전공 : 69학점\n",
    "연계융합전공 : 81학점\n",
    "\n",
    "AI융합전공 안내 : 한국항공대학교 AI융합전공 (kau.ac.kr)\n",
    "교양 졸업이수학점은 아래 링크를 참고하기 바람 : http://college.kau.ac.kr/web/pages/gc51336h.do\"\"\"\n",
    "\n",
    "user_text_vec = get_embedding(user_text, model='text-embedding-ada-002')\n",
    "Section_vec = get_embedding(Section, model='text-embedding-ada-002')\n",
    "Section_vec2 = get_embedding(Section2, model='text-embedding-ada-002')\n",
    "\n",
    "score = np.dot(np.array(user_text_vec), np.array(Section_vec))\n",
    "print(score)\n",
    "\n",
    "score2 = np.dot(np.array(user_text_vec), np.array(Section_vec2))\n",
    "print(score2)"
   ]
  },
  {
   "cell_type": "code",
   "execution_count": 10,
   "id": "6ac76e70",
   "metadata": {},
   "outputs": [
    {
     "name": "stdout",
     "output_type": "stream",
     "text": [
      "0.8656140564939834\n",
      "0.8378749858206243\n"
     ]
    }
   ],
   "source": [
    "def translate_func(temp_manual):\n",
    "    sys = f\"\"\"function_name: [trans_sentence]\n",
    "    input: [\"Korean_sentence\"]\n",
    "    output: [\"English_sentence\"]\n",
    "    rule: [I want you to act as an English translator. I will provide you with input forms including \"sentence\" in any language and you will detect the language, translate it, in English.]\n",
    "\n",
    "    # Start translate!\n",
    "    input : [trans_sentence({temp_manual})]\"\"\"\n",
    "    completion = openai.ChatCompletion.create( \n",
    "          model=\"gpt-3.5-turbo-1106\",  \n",
    "#           model=\"gpt-4-1106-preview\",  \n",
    "          messages=[\n",
    "          {\"role\": \"system\", \"content\": f'\"{sys}\"'},\n",
    "    #       {\"role\": \"user\", \"content\": f'\"{user}\"'},\n",
    "          ], temperature =  0.0001)\n",
    "    answer = completion['choices'][0]['message']['content']\n",
    "    return answer \n",
    "\n",
    "user_text = \"What are the graduation requirements?\"\n",
    "Section_eng = translate_func(Section)\n",
    "Section_eng2 = translate_func(Section2)\n",
    "\n",
    "user_text_vec = get_embedding(user_text, model='text-embedding-ada-002')\n",
    "Section_vec = get_embedding(Section_eng, model='text-embedding-ada-002')\n",
    "Section_vec2 = get_embedding(Section_eng2, model='text-embedding-ada-002')\n",
    "\n",
    "score = np.dot(np.array(user_text_vec), np.array(Section_vec))\n",
    "print(score)\n",
    "\n",
    "score2 = np.dot(np.array(user_text_vec), np.array(Section_vec2))\n",
    "print(score2)"
   ]
  },
  {
   "cell_type": "code",
   "execution_count": 12,
   "id": "35e8649c",
   "metadata": {},
   "outputs": [
    {
     "name": "stdout",
     "output_type": "stream",
     "text": [
      "output: [\"Article 34 (Graduation) Paragraph 1, Graduates must satisfy the following graduation requirements: acquire 130 or more total credits, acquire designated credits for general education subjects, acquire credits for general education requirements and mandatory subjects, acquire 45 or more credits for the major subjects, complete a minor, double major, or integrated major, or acquire 24 or more additional credits for advanced major subjects, maintain a GPA of 2.00 or higher, pass the graduation certification (excluding North Korean defectors, students under school-affiliated military consignment, and students in contracted departments), and satisfy the graduation requirements specified by the respective department's regulations, and the credits for major subjects of graduates from the School of Liberal Arts and Sciences can be separately determined regardless of the above. \n",
      "10. Transfer students must acquire 57 or more credits for the major instead of the graduation requirements in 4 and 5. \n",
      "Paragraph 2, those who fail to meet the graduation requirements under Paragraph 1 can graduate in the same academic year by paying the specified tuition and meeting the graduation requirements. However, those who only fail to meet the graduation requirements in 7 do not need to pay the tuition. Paragraph 3, recognition of a minor is in accordance with Article 24, Paragraph 1, Item 6. Paragraph 4, recognition of a double major is in accordance with Article 25, Paragraph 1, Item 6. Paragraph 5, recognition of an integrated major is in accordance with Article 25-3, Paragraph 2, Item 4. Paragraph 6, those participating in the International Aviation Education Certification Program must satisfy the graduation credits according to the regulations of the respective department in accordance with Article 26 of the Academic Regulations. \n",
      "Article 34-2 (Early Graduation) Paragraph 1, the timing for applying for early graduation is after completing the second year and obtaining approval from the dean of the department and submitting the early graduation application to the Office of Academic Affairs. However, those who have been approved for early graduation can register for required courses in the upper years. \n",
      "Paragraph 2, early graduates must be enrolled for at least 6 semesters at the university, acquire the required credits for graduation, and maintain a cumulative GPA of 4.0 or higher. Paragraph 3, those who have received academic warnings more than once during their enrollment will be excluded from the early graduation candidates. Paragraph 4, even if the required courses in the upper years have been completed according to the provisions of Paragraph 1, if the required courses have been changed due to changes in the curriculum, it will be considered as having completed the required courses. \n",
      "Article 34-3 (Graduation Certification) Paragraph 1, the fields for graduation certification selection under Article 34, Paragraph 1, Item 6 are as follows. \n",
      "1. Global Communication Competency Certification\n",
      "2. Professional Inquiry Competency Certification\n",
      "3. Convergence Competency Certification\n",
      "4. Creative Challenge Competency Certification\n",
      "5. Ethical Integrity Competency Certification\n",
      "Paragraph 2, graduates must receive certification in two or more areas including global communication competency as part of the graduation certification, and the details of the graduation certification will be separately determined. Paragraph 3, North Korean defectors, students under school-affiliated military consignment, and students in contracted departments are exempt. Paragraph 4, in addition to the exceptions under Paragraph 3, approval from the president can exempt other reasons. Paragraph 5, those who do not pass the graduation certification will not be awarded the relevant major's bachelor's degree and can either graduate or maintain enrollment under certain conditions. However, if they fulfill the requirements after graduation, the bachelor's degree will be awarded at the end of that semester. \n",
      "Article 34-4 (Outstanding Graduates) Among students who meet the graduation qualifications under Article 28 of the Academic Regulations, those with outstanding academic performance and good conduct will be classified and listed on the academic records and degree certificates as follows. \n",
      "1. Summa Cum Laude: Those with a cumulative GPA of 4.25/4.50 or within the top 2% of their respective departments. \n",
      "2. Magna Cum Laude: Those with a cumulative GPA of 4.00/4.50 or higher. \n",
      "3. Cum Laude: Those with a cumulative GPA of 3.75/4.50 or higher. \n",
      "Article 34-5 (Degree Certificate and Awarded Degree) Paragraph 1, the degree certificate includes information on the department, major, minor, double major, integrated major, and advanced major. Paragraph 2, the degree certificate format and the awarded degree names for each major are as follows. Paragraph 3, the major name for the International Aviation Education Certification Program is as follows.\"]\n"
     ]
    }
   ],
   "source": [
    "print(Section_eng)"
   ]
  },
  {
   "cell_type": "code",
   "execution_count": 23,
   "id": "38e86333",
   "metadata": {
    "scrolled": true
   },
   "outputs": [
    {
     "name": "stdout",
     "output_type": "stream",
     "text": [
      "13\n",
      "6\n"
     ]
    }
   ],
   "source": [
    "import tiktoken\n",
    "enc = tiktoken.get_encoding('cl100k_base')\n",
    "tokenizer = tiktoken.encoding_for_model(\"gpt-3.5-turbo-1106\")\n",
    "\n",
    "Section = \"\"\"졸업요건이 뭐야?\"\"\"\n",
    "Section_eng = \"\"\"What are the graduation requirements?\"\"\"\n",
    "\n",
    "tokens = tokenizer.encode(Section)\n",
    "print(len(tokens))\n",
    "tokens = tokenizer.encode(Section_eng)\n",
    "print(len(tokens))\n",
    "# tokenizer.decode(tokens)"
   ]
  },
  {
   "cell_type": "code",
   "execution_count": null,
   "id": "58f950c0",
   "metadata": {},
   "outputs": [],
   "source": []
  }
 ],
 "metadata": {
  "kernelspec": {
   "display_name": "Python 3 (ipykernel)",
   "language": "python",
   "name": "python3"
  },
  "language_info": {
   "codemirror_mode": {
    "name": "ipython",
    "version": 3
   },
   "file_extension": ".py",
   "mimetype": "text/x-python",
   "name": "python",
   "nbconvert_exporter": "python",
   "pygments_lexer": "ipython3",
   "version": "3.9.12"
  }
 },
 "nbformat": 4,
 "nbformat_minor": 5
}
